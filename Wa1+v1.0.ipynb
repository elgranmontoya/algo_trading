{
 "cells": [
  {
   "cell_type": "markdown",
   "metadata": {},
   "source": [
    "# Wa1 v1.0\n",
    "\n",
    "Goals: 20-50% YTD  \n",
    "Drawdown < 50%  \n",
    "Strat name: Wa1 v1.0  \n",
    "Stragey-Gen Description: Mean reversiona and averaging down on markets  \n",
    "Markets to test: Mining, Tech, Biomass, Healthcare  \n",
    "Test both minute and day data  \n",
    "Periods to test: 2003-2005, 2008-2009, 2013-2015  \n",
    "Entry Rules: Moving average < 10d moving average; If sotck goes down, average down  \n",
    "Exit Rules: If stock is up_%, sell; If stock is down 20% stop doubling down  \n",
    "Things to remember: The rule of never investing more than 2% of equity in a single trade  \n",
    "\n",
    "### Initialize\n",
    "Using 9 sector funds - will test with several variations of these markets"
   ]
  },
  {
   "cell_type": "code",
   "execution_count": null,
   "metadata": {
    "collapsed": true
   },
   "outputs": [],
   "source": [
    "def initialize(context):\n",
    "    context.security_list = symbols('XLY',  # XLY Consumer Discrectionary SPDR Fund   \n",
    "                           'XLF',  # XLF Financial SPDR Fund  \n",
    "                           'XLK',  # XLK Technology SPDR Fund  \n",
    "                           'XLE',  # XLE Energy SPDR Fund  \n",
    "                           'XLV',  # XLV Health Care SPRD Fund  \n",
    "                           'XLI',  # XLI Industrial SPDR Fund  \n",
    "                           'XLP',  # XLP Consumer Staples SPDR Fund   \n",
    "                           'XLB',  # XLB Materials SPDR Fund  \n",
    "                           'XLU')  # XLU Utilities SPRD Fund"
   ]
  },
  {
   "cell_type": "markdown",
   "metadata": {},
   "source": [
    "Next we will define the rebalance. The algorithm will rebalance every day (or the first trading day if it's a holiday). At 11 AM ET, which is 1 hour and 30 minutes after the market open."
   ]
  },
  {
   "cell_type": "code",
   "execution_count": null,
   "metadata": {
    "collapsed": true
   },
   "outputs": [],
   "source": [
    "    schedule_function(rebalance, date_rules.week_start(days_offset=0), time_rules.market_open(hours = 1, minutes = 30))  "
   ]
  },
  {
   "cell_type": "markdown",
   "metadata": {},
   "source": [
    "### Rebalance\n",
    "The rebalance class. It will loop through each of the stocks and order the target percentage. We will start by defining 4 variables: the number of positions, the 10 day prices, the 10 day moving average, and the current price."
   ]
  },
  {
   "cell_type": "code",
   "execution_count": null,
   "metadata": {
    "collapsed": true
   },
   "outputs": [],
   "source": [
    "    for sec in context.security_list:\n",
    "        #Check positions of security\n",
    "        positions = context.portfolio.positions(sec)\n",
    "            \n",
    "        #Price data\n",
    "        10_day_mavg = data.history(sec, \"price\", 10, \"1d\")\n",
    "        mavg1 = 10_day_mavg.mean()\n",
    "        current_price = data.current(sec, 'price')"
   ]
  },
  {
   "cell_type": "markdown",
   "metadata": {},
   "source": [
    "Now for the trading logic."
   ]
  },
  {
   "cell_type": "code",
   "execution_count": null,
   "metadata": {
    "collapsed": true
   },
   "outputs": [],
   "source": [
    "if data.can_trade(sec):\n",
    "                        \n",
    "    if positions == 0 and current_price > mavg1: #If you have no shares\n",
    "        order_target_percent(sec, .05)\n",
    "        pricebuy = current_price\n",
    "    elif positions > 0: #if you already own the stock\n",
    "        if current_price > (context.portfolio.positions[sec].cost_basis * 1.02): #if the stock has 2% gain\n",
    "            order_target_value(sec, 0) #sell all shares\n",
    "        elif current_price < (context.portfolio.positions[sec].cost_basis * 1.02) and current_price > (context.portfolio.positions[sec].cost_basis * .8): #if the current price is between 2% gain and 20% loss\n",
    "            amount = context.portfolio.positions[sec].amount\n",
    "            order_target_percent(sec, (amount * 2))\n",
    "        \n",
    "    else:\n",
    "        pass"
   ]
  }
 ],
 "metadata": {
  "kernelspec": {
   "display_name": "Python 2",
   "language": "python",
   "name": "python2"
  },
  "language_info": {
   "codemirror_mode": {
    "name": "ipython",
    "version": 2
   },
   "file_extension": ".py",
   "mimetype": "text/x-python",
   "name": "python",
   "nbconvert_exporter": "python",
   "pygments_lexer": "ipython2",
   "version": "2.7.12"
  }
 },
 "nbformat": 4,
 "nbformat_minor": 1
}

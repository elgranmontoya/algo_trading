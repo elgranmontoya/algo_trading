{
 "cells": [
  {
   "cell_type": "markdown",
   "metadata": {},
   "source": [
    "# Python For Finance - Machine Learning Intro\n",
    "\n",
    "### WARNING - THIS IS QUANTOPIAN CODE AND MIGHT NOT RUN"
   ]
  },
  {
   "cell_type": "markdown",
   "metadata": {},
   "source": [
    "## Original @ [PFF14]"
   ]
  },
  {
   "cell_type": "code",
   "execution_count": null,
   "metadata": {
    "collapsed": true
   },
   "outputs": [],
   "source": [
    "def initialize(context):\n",
    "    context.features = {}\n",
    "    context.stocks = symbols('XLY',  # XLY Consumer Discrectionary SPDR Fund   \n",
    "                           'XLF',  # XLF Financial SPDR Fund  \n",
    "                           'XLK',  # XLK Technology SPDR Fund  \n",
    "                           'XLE',  # XLE Energy SPDR Fund  \n",
    "                           'XLV',  # XLV Health Care SPRD Fund  \n",
    "                           'XLI',  # XLI Industrial SPDR Fund  \n",
    "                           'XLP',  # XLP Consumer Staples SPDR Fund   \n",
    "                           'XLB',  # XLB Materials SPDR Fund  \n",
    "                           'XLU')  # XLU Utilities SPRD Fund\n",
    "    \n",
    "    \n",
    "def rebalance(context, data):\n",
    "    pass\n",
    "  \n",
    "    \n",
    "\n",
    "def handle_data(context, data):\n",
    "    for stock in context.stocks:\n",
    "        ma1 = data[stock].mavg(100) \n",
    "        ma2 = data[stock].mavg(300)\n",
    "        \n",
    "        price = data[stock].price\n",
    "        \n",
    "        if ma1 > ma2:\n",
    "            order_target_percent(stock, 0.11)\n",
    "            \n",
    "        elif ma1 < ma2:\n",
    "            order_target_percent(stock, -0.11)  \n",
    "        \n",
    "        record('ma1',ma1)\n",
    "        record('ma2',ma2)\n",
    "        record('Leverage',context.account.leverage)"
   ]
  },
  {
   "cell_type": "markdown",
   "metadata": {},
   "source": [
    "## Changes @ [PFF14]\n",
    "\n",
    "Machine learning has features and labels\n",
    "We will go through the last 100 days of data.\n",
    "We will then use 10 day slices to train the program to predict stock prices."
   ]
  },
  {
   "cell_type": "code",
   "execution_count": null,
   "metadata": {
    "collapsed": true
   },
   "outputs": [],
   "source": [
    "#add to initialize\n",
    "context.historical_bars = 100\n",
    "context.feature_window = 10"
   ]
  },
  {
   "cell_type": "code",
   "execution_count": null,
   "metadata": {
    "collapsed": true
   },
   "outputs": [],
   "source": [
    "#add to handle_data\n",
    "prices = history(bar_count = context.historical_bars, frequency='1d', field='price')"
   ]
  },
  {
   "cell_type": "code",
   "execution_count": null,
   "metadata": {
    "collapsed": true
   },
   "outputs": [],
   "source": [
    "#add to for\n",
    "start_bar = context.feature_window"
   ]
  },
  {
   "cell_type": "markdown",
   "metadata": {},
   "source": [
    "Next we convert the last 100 days of prices to a list"
   ]
  },
  {
   "cell_type": "code",
   "execution_count": null,
   "metadata": {
    "collapsed": true
   },
   "outputs": [],
   "source": [
    "price_list = prices[stock].tolist()\n",
    "\n",
    "x = []\n",
    "y = []"
   ]
  },
  {
   "cell_type": "markdown",
   "metadata": {},
   "source": [
    "## Final @ [PFF14]"
   ]
  },
  {
   "cell_type": "code",
   "execution_count": null,
   "metadata": {
    "collapsed": true
   },
   "outputs": [],
   "source": [
    "from sklearn.linear_model import LogisticRegression\n",
    "from sklearn.svm import SVC, LinearSVC, NuSVC\n",
    "from sklearn.ensemble import RandomForestClassifier\n",
    "from sklearn import preprocessing\n",
    "from collections import Counter\n",
    "import numpy as np\n",
    "\n",
    "\n",
    "def initialize(context):\n",
    "\n",
    "    context.stocks = symbols('XLY',  # XLY Consumer Discrectionary SPDR Fund   \n",
    "                           'XLF',  # XLF Financial SPDR Fund  \n",
    "                           'XLK',  # XLK Technology SPDR Fund  \n",
    "                           'XLE',  # XLE Energy SPDR Fund  \n",
    "                           'XLV',  # XLV Health Care SPRD Fund  \n",
    "                           'XLI',  # XLI Industrial SPDR Fund  \n",
    "                           'XLP',  # XLP Consumer Staples SPDR Fund   \n",
    "                           'XLB',  # XLB Materials SPDR Fund  \n",
    "                           'XLU')  # XLU Utilities SPRD Fund\n",
    "    \n",
    "    context.historical_bars = 100\n",
    "    context.feature_window = 10\n",
    "    \n",
    "def handle_data(context, data):\n",
    "    prices = history(bar_count = context.historical_bars, frequency='1d', field='price')\n",
    "\n",
    "    for stock in context.stocks:   \n",
    "        ma1 = data[stock].mavg(50)\n",
    "        ma2 = data[stock].mavg(200)\n",
    "        \n",
    "        start_bar = context.feature_window\n",
    "        price_list = prices[stock].tolist()\n",
    "        \n",
    "        X = []\n",
    "        y = []\n"
   ]
  },
  {
   "cell_type": "markdown",
   "metadata": {},
   "source": [
    "## [PFF15]\n",
    "\n",
    "### Creating Feature Sets\n",
    "\n",
    "If price goes up, 1\n",
    "If price goes down, -1 or 0"
   ]
  },
  {
   "cell_type": "code",
   "execution_count": null,
   "metadata": {
    "collapsed": true
   },
   "outputs": [],
   "source": [
    "import numpy as np"
   ]
  },
  {
   "cell_type": "code",
   "execution_count": null,
   "metadata": {
    "collapsed": true
   },
   "outputs": [],
   "source": [
    "#add to for\n",
    "bar = start_bar\n",
    "\n",
    "#len = length\n",
    "#when slicing lists the first element is a 0; thus the -1\n",
    "while bar < len(price_list)-1:\n",
    "    try:\n",
    "        #say price is 192. We want to see the pattern changes of the last 10 changes to find the next price\n",
    "        end_price = price_list[bar+1]\n",
    "        start_price = price_list[bar] #the last price on the list\n",
    "        \n",
    "        pricing_list = []\n",
    "        xx = 0\n",
    "        for _ in range(context.feature_window): #underscore in a for loop means the variable is useless\n",
    "            price=price_list[bar-(context.feature_window-xx)] # the massive list of prices\n",
    "            pricing_list.append(price)\n",
    "            xx += 1 #references the current bar and does the previous prices (bar - 1)\n",
    "        \n",
    "        #normalize the data\n",
    "        #percent change (new-old/old*100)\n",
    "        features = np.around(np.diff(pricing_list) / pricing_list[:-1] * 100.0, 1)\n",
    "        \n",
    "        print(features)\n",
    "        bar += 1\n",
    "        \n",
    "    except Exception as e:\n",
    "        print(('feature creation',str(e)))"
   ]
  },
  {
   "cell_type": "markdown",
   "metadata": {},
   "source": [
    "Say the list is: [4,4,5,6,34,33] We want to find the NEXT price on the list. We want the machine learning to \"think\" and figure out what the next price will be"
   ]
  },
  {
   "cell_type": "markdown",
   "metadata": {},
   "source": [
    "## Final @ [PFF15]"
   ]
  },
  {
   "cell_type": "code",
   "execution_count": null,
   "metadata": {
    "collapsed": true
   },
   "outputs": [],
   "source": [
    "from sklearn.linear_model import LogisticRegression\n",
    "from sklearn.svm import SVC, LinearSVC, NuSVC\n",
    "from sklearn.ensemble import RandomForestClassifier\n",
    "from sklearn import preprocessing\n",
    "from collections import Counter\n",
    "import numpy as np\n",
    "\n",
    "\n",
    "def initialize(context):\n",
    "\n",
    "    context.stocks = symbols('XLY',  # XLY Consumer Discrectionary SPDR Fund   \n",
    "                           'XLF',  # XLF Financial SPDR Fund  \n",
    "                           'XLK',  # XLK Technology SPDR Fund  \n",
    "                           'XLE',  # XLE Energy SPDR Fund  \n",
    "                           'XLV',  # XLV Health Care SPRD Fund  \n",
    "                           'XLI',  # XLI Industrial SPDR Fund  \n",
    "                           'XLP',  # XLP Consumer Staples SPDR Fund   \n",
    "                           'XLB',  # XLB Materials SPDR Fund  \n",
    "                           'XLU')  # XLU Utilities SPRD Fund\n",
    "    \n",
    "    context.historical_bars = 100\n",
    "    context.feature_window = 10\n",
    "    \n",
    "\n",
    "   \n",
    "\n",
    "def handle_data(context, data):\n",
    "    prices = history(bar_count = context.historical_bars, frequency='1d', field='price')\n",
    "\n",
    "    for stock in context.stocks:   \n",
    "        ma1 = data[stock].mavg(50)\n",
    "        ma2 = data[stock].mavg(200)\n",
    "        \n",
    "        start_bar = context.feature_window\n",
    "        price_list = prices[stock].tolist()\n",
    "        \n",
    "        X = []\n",
    "        y = []\n",
    "        \n",
    "        bar = start_bar\n",
    "        \n",
    "        # feature creation\n",
    "        while bar < len(price_list)-1:\n",
    "            try:\n",
    "                end_price = price_list[bar+1]\n",
    "                begin_price = price_list[bar]\n",
    "                \n",
    "                pricing_list = []\n",
    "                xx = 0\n",
    "                for _ in range(context.feature_window):\n",
    "                    price = price_list[bar-(context.feature_window-xx)]\n",
    "                    pricing_list.append(price)\n",
    "                    xx += 1\n",
    "                    \n",
    "                features = np.around(np.diff(pricing_list) / pricing_list[:-1] * 100.0, 1)\n",
    "                \n",
    "                if end_price > begin_price:\n",
    "                    label = 1\n",
    "                else:\n",
    "                    label = -1\n",
    "\n",
    "                bar += 1\n",
    "                print(features)\n",
    "\n",
    "            except Exception as e:\n",
    "                bar += 1\n",
    "                print(('feature creation',str(e)))"
   ]
  }
 ],
 "metadata": {
  "kernelspec": {
   "display_name": "Python 2",
   "language": "python",
   "name": "python2"
  },
  "language_info": {
   "codemirror_mode": {
    "name": "ipython",
    "version": 2
   },
   "file_extension": ".py",
   "mimetype": "text/x-python",
   "name": "python",
   "nbconvert_exporter": "python",
   "pygments_lexer": "ipython2",
   "version": "2.7.11"
  }
 },
 "nbformat": 4,
 "nbformat_minor": 0
}
